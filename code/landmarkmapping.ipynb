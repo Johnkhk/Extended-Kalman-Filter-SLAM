{
 "cells": [
  {
   "cell_type": "code",
   "execution_count": 37,
   "metadata": {},
   "outputs": [],
   "source": [
    "%reload_ext autoreload\n",
    "%autoreload 2\n",
    "from pr3_utils import *\n",
    "from stereo import *\n",
    "from helpers import *\n",
    "from ekf import *\n",
    "from visualize import *\n",
    "filename = \"./data/10.npz\"\n",
    "t,features,linear_velocity,angular_velocity,K,b,imu_T_cam = load_data(filename)\n",
    "#Sample every 4th feature\n",
    "everyth=4\n",
    "features = features[:,0:-1:everyth,:]\n"
   ]
  },
  {
   "cell_type": "code",
   "execution_count": 38,
   "metadata": {},
   "outputs": [],
   "source": [
    "#Initialize Classes\n",
    "mxlandmarks = features.shape[1]\n",
    "numLandmarks = mxlandmarks\n",
    "stereo = stereo(K,b,imu_T_cam, numLandmarks)\n",
    "ekf = ekf(stereo, numLandmarks)"
   ]
  },
  {
   "cell_type": "code",
   "execution_count": 39,
   "metadata": {},
   "outputs": [],
   "source": [
    "#Initialize parameters\n",
    "bigPose = np.zeros((4,4,len(t[0])))\n",
    "bigPose[:,:,0] = ekf.IMUpose\n",
    "Wdef = np.diag([0.3,0.3,0.3,0.05,0.05,0.05])"
   ]
  },
  {
   "cell_type": "code",
   "execution_count": 62,
   "metadata": {},
   "outputs": [
    {
     "name": "stdout",
     "output_type": "stream",
     "text": [
      "1\n",
      "HIHIHIHIHIHIHIHIHIHIHIHIHIHIHIHIHIHIHIHI\n",
      "(3322, 4, 3)\n"
     ]
    },
    {
     "name": "stderr",
     "output_type": "stream",
     "text": [
      "/Users/john/Desktop/UCSD_mac/ece276a/ECE276A_PR3/code/stereo.py:43: RuntimeWarning: divide by zero encountered in true_divide\n",
      "  z = self.fsub / (ul-ur)\n",
      "/Users/john/Desktop/UCSD_mac/ece276a/ECE276A_PR3/code/stereo.py:51: RuntimeWarning: invalid value encountered in matmul\n",
      "  sb = self.T@sw\n"
     ]
    }
   ],
   "source": [
    "for i in range(1,len(t[0])):\n",
    "    print(i)\n",
    "    linvel = linear_velocity[:,i]\n",
    "    angvel = angular_velocity[:,i]\n",
    "    tau = t[0,i]-t[0,i-1]\n",
    "\n",
    "    #Prediction\n",
    "    ekf.IMUpose = getNextPose(angvel, linvel,  tau, ekf.IMUpose)\n",
    "    ekf.IMUsig = getNextSig(angvel,linvel, tau, Wdef, ekf.IMUsig)\n",
    "\n",
    "    #Update\n",
    "    fs = features[:,:,i]\n",
    "    fs=fs.T\n",
    "    validIdxs = (fs[:,0] >0)\n",
    "    fs=fs.T\n",
    "    landmarkposeInIMU = stereo.getPoints2(fs)\n",
    "    landmarkposeInW = ekf.IMUpose @ landmarkposeInIMU #u\n",
    "    zpred = stereo.getPredZ(landmarkposeInW, ekf.IMUpose)\n",
    "    z = zpred[:,validIdxs].reshape(-1,1,order='F') #4Nt by 1\n",
    "    # get H\n",
    "    H = stereo.getH(ekf.IMUpose, landmarkposeInW)\n",
    "\n",
    "\n",
    "    break\n",
    "\n",
    "\n",
    "\n"
   ]
  },
  {
   "cell_type": "code",
   "execution_count": null,
   "metadata": {},
   "outputs": [],
   "source": []
  }
 ],
 "metadata": {
  "interpreter": {
   "hash": "38cca0c38332a56087b24af0bc80247f4fced29cb4f7f437d91dc159adec9c4e"
  },
  "kernelspec": {
   "display_name": "Python 3.9.7 ('base')",
   "language": "python",
   "name": "python3"
  },
  "language_info": {
   "codemirror_mode": {
    "name": "ipython",
    "version": 3
   },
   "file_extension": ".py",
   "mimetype": "text/x-python",
   "name": "python",
   "nbconvert_exporter": "python",
   "pygments_lexer": "ipython3",
   "version": "3.9.7"
  },
  "orig_nbformat": 4
 },
 "nbformat": 4,
 "nbformat_minor": 2
}
